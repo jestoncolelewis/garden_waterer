{
 "cells": [
  {
   "cell_type": "code",
   "execution_count": 1,
   "metadata": {},
   "outputs": [],
   "source": [
    "import funcs\n",
    "import os"
   ]
  },
  {
   "cell_type": "code",
   "execution_count": 2,
   "metadata": {},
   "outputs": [
    {
     "name": "stdout",
     "output_type": "stream",
     "text": [
      "Connection to MySQL DB successful\n"
     ]
    }
   ],
   "source": [
    "connection = funcs.create_connection(\"192.168.1.188\", \"jeston\", \"moxvev-8fuhha-wytreC\", \"garden_waterer\")"
   ]
  },
  {
   "cell_type": "code",
   "execution_count": 4,
   "metadata": {},
   "outputs": [
    {
     "ename": "InternalError",
     "evalue": "Unread result found",
     "output_type": "error",
     "traceback": [
      "\u001b[0;31m---------------------------------------------------------------------------\u001b[0m",
      "\u001b[0;31mInternalError\u001b[0m                             Traceback (most recent call last)",
      "\u001b[1;32m/Users/jestonlewis/Repos/garden_waterer/test.ipynb Cell 3\u001b[0m line \u001b[0;36m2\n\u001b[1;32m      <a href='vscode-notebook-cell:/Users/jestonlewis/Repos/garden_waterer/test.ipynb#W4sZmlsZQ%3D%3D?line=0'>1</a>\u001b[0m moisture_select \u001b[39m=\u001b[39m \u001b[39mf\u001b[39m\u001b[39m\"\"\"\u001b[39m\u001b[39mSELECT moisture FROM jade;\u001b[39m\u001b[39m\"\"\"\u001b[39m\n\u001b[0;32m----> <a href='vscode-notebook-cell:/Users/jestonlewis/Repos/garden_waterer/test.ipynb#W4sZmlsZQ%3D%3D?line=1'>2</a>\u001b[0m raw_moisture \u001b[39m=\u001b[39m funcs\u001b[39m.\u001b[39;49mexecute_query(connection, moisture_select)\n\u001b[1;32m      <a href='vscode-notebook-cell:/Users/jestonlewis/Repos/garden_waterer/test.ipynb#W4sZmlsZQ%3D%3D?line=2'>3</a>\u001b[0m raw_moisture\n",
      "File \u001b[0;32m~/Repos/garden_waterer/funcs.py:42\u001b[0m, in \u001b[0;36mexecute_query\u001b[0;34m(connection, query)\u001b[0m\n\u001b[1;32m     41\u001b[0m \u001b[39mdef\u001b[39;00m \u001b[39mexecute_query\u001b[39m(connection, query):\n\u001b[0;32m---> 42\u001b[0m     cursor \u001b[39m=\u001b[39m connection\u001b[39m.\u001b[39mcursor(buffered\u001b[39m=\u001b[39m\u001b[39mTrue\u001b[39;00m)\n\u001b[1;32m     43\u001b[0m     \u001b[39mtry\u001b[39;00m:\n\u001b[1;32m     44\u001b[0m         cursor\u001b[39m.\u001b[39mexecute(query)\n",
      "File \u001b[0;32m~/Repos/garden_waterer/venv/lib/python3.11/site-packages/mysql/connector/connection_cext.py:698\u001b[0m, in \u001b[0;36mCMySQLConnection.cursor\u001b[0;34m(self, buffered, raw, prepared, cursor_class, dictionary, named_tuple)\u001b[0m\n\u001b[1;32m    661\u001b[0m \u001b[39mdef\u001b[39;00m \u001b[39mcursor\u001b[39m(\n\u001b[1;32m    662\u001b[0m     \u001b[39mself\u001b[39m,\n\u001b[1;32m    663\u001b[0m     buffered: Optional[\u001b[39mbool\u001b[39m] \u001b[39m=\u001b[39m \u001b[39mNone\u001b[39;00m,\n\u001b[0;32m   (...)\u001b[0m\n\u001b[1;32m    668\u001b[0m     named_tuple: Optional[\u001b[39mbool\u001b[39m] \u001b[39m=\u001b[39m \u001b[39mNone\u001b[39;00m,\n\u001b[1;32m    669\u001b[0m ) \u001b[39m-\u001b[39m\u001b[39m>\u001b[39m CMySQLCursor:\n\u001b[1;32m    670\u001b[0m \u001b[39m    \u001b[39m\u001b[39m\"\"\"Instantiates and returns a cursor using C Extension\u001b[39;00m\n\u001b[1;32m    671\u001b[0m \n\u001b[1;32m    672\u001b[0m \u001b[39m    By default, CMySQLCursor is returned. Depending on the options\u001b[39;00m\n\u001b[0;32m   (...)\u001b[0m\n\u001b[1;32m    696\u001b[0m \u001b[39m    :rtype: CMySQLCursor or subclass\u001b[39;00m\n\u001b[1;32m    697\u001b[0m \u001b[39m    \"\"\"\u001b[39;00m\n\u001b[0;32m--> 698\u001b[0m     \u001b[39mself\u001b[39;49m\u001b[39m.\u001b[39;49mhandle_unread_result(prepared)\n\u001b[1;32m    699\u001b[0m     \u001b[39mif\u001b[39;00m \u001b[39mnot\u001b[39;00m \u001b[39mself\u001b[39m\u001b[39m.\u001b[39mis_connected():\n\u001b[1;32m    700\u001b[0m         \u001b[39mraise\u001b[39;00m OperationalError(\u001b[39m\"\u001b[39m\u001b[39mMySQL Connection not available.\u001b[39m\u001b[39m\"\u001b[39m)\n",
      "File \u001b[0;32m~/Repos/garden_waterer/venv/lib/python3.11/site-packages/mysql/connector/connection_cext.py:955\u001b[0m, in \u001b[0;36mCMySQLConnection.handle_unread_result\u001b[0;34m(self, prepared)\u001b[0m\n\u001b[1;32m    953\u001b[0m     \u001b[39mself\u001b[39m\u001b[39m.\u001b[39mconsume_results()\n\u001b[1;32m    954\u001b[0m \u001b[39melif\u001b[39;00m unread_result:\n\u001b[0;32m--> 955\u001b[0m     \u001b[39mraise\u001b[39;00m InternalError(\u001b[39m\"\u001b[39m\u001b[39mUnread result found\u001b[39m\u001b[39m\"\u001b[39m)\n",
      "\u001b[0;31mInternalError\u001b[0m: Unread result found"
     ]
    }
   ],
   "source": [
    "moisture_select = f\"\"\"SELECT moisture FROM jade;\"\"\"\n",
    "raw_moisture = funcs.execute_query(connection, moisture_select)\n",
    "raw_moisture"
   ]
  },
  {
   "cell_type": "code",
   "execution_count": null,
   "metadata": {},
   "outputs": [],
   "source": []
  }
 ],
 "metadata": {
  "kernelspec": {
   "display_name": "venv",
   "language": "python",
   "name": "python3"
  },
  "language_info": {
   "codemirror_mode": {
    "name": "ipython",
    "version": 3
   },
   "file_extension": ".py",
   "mimetype": "text/x-python",
   "name": "python",
   "nbconvert_exporter": "python",
   "pygments_lexer": "ipython3",
   "version": "3.11.5"
  }
 },
 "nbformat": 4,
 "nbformat_minor": 2
}
