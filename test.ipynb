{
 "cells": [
  {
   "cell_type": "code",
   "execution_count": 1,
   "metadata": {},
   "outputs": [],
   "source": [
    "import serial\n",
    "import time"
   ]
  },
  {
   "cell_type": "code",
   "execution_count": 2,
   "metadata": {},
   "outputs": [],
   "source": [
    "moisture_level: int\n",
    "arduino = serial.Serial(\n",
    "    port=\"/dev/cu.usbmodem101\",\n",
    "    baudrate=115200,\n",
    "    timeout=.1\n",
    ")\n",
    "time.sleep(1)"
   ]
  },
  {
   "cell_type": "code",
   "execution_count": 9,
   "metadata": {},
   "outputs": [
    {
     "name": "stdout",
     "output_type": "stream",
     "text": [
      "b'27\\r\\n'\n",
      "27\n"
     ]
    }
   ],
   "source": [
    "if arduino.is_open:\n",
    "    arduino.write(\"true\".encode(\"utf-8\"))\n",
    "    data = arduino.readline()\n",
    "    if data:\n",
    "        print(data)\n",
    "        moisture_level = int(data)\n",
    "        print(moisture_level)"
   ]
  },
  {
   "cell_type": "code",
   "execution_count": null,
   "metadata": {},
   "outputs": [],
   "source": []
  }
 ],
 "metadata": {
  "kernelspec": {
   "display_name": "venv",
   "language": "python",
   "name": "python3"
  },
  "language_info": {
   "codemirror_mode": {
    "name": "ipython",
    "version": 3
   },
   "file_extension": ".py",
   "mimetype": "text/x-python",
   "name": "python",
   "nbconvert_exporter": "python",
   "pygments_lexer": "ipython3",
   "version": "3.9.6"
  }
 },
 "nbformat": 4,
 "nbformat_minor": 2
}
